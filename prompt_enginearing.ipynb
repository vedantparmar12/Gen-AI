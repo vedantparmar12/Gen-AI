{
 "cells": [
  {
   "cell_type": "markdown",
   "metadata": {},
   "source": [
    "### Agenda\n",
    "- Introduction to prompt Engineering\n",
    "- Important terminology related to image prompting\n",
    "- Prompting using UI\n",
    "- Prompting using Code"
   ]
  },
  {
   "cell_type": "markdown",
   "metadata": {},
   "source": [
    "### 1. Introduction to Prompt Engineering"
   ]
  },
  {
   "cell_type": "markdown",
   "metadata": {},
   "source": [
    "The field of AI is becoming more and more popular everyday. This is, in part, thanks to the capabilities of generative AI models such as ChatGPT (for language), Stable Diffusion (for images), and so on.\n",
    "\n",
    "You are already familiar with prompt engineering in the case of language models such as ChatGPT. You might have noticed that language models like ChatGPT require a structured description of what you want from it. You can use chain-of-thought methods along with few-shot examples to align your language model instance with what you want.\n",
    "\n",
    "Image models are slightly different because they are not trained on the same data as language models. Image models are primarily trained on captioned images, so the models pay more attention to keywords rather than elaborate descriptions."
   ]
  },
  {
   "cell_type": "markdown",
   "metadata": {},
   "source": [
    "![title](../data/cat_new.jpeg)"
   ]
  },
  {
   "cell_type": "markdown",
   "metadata": {},
   "source": [
    "Here's the prompt:\n",
    "> *Acrylic painting of a cat, shot from far, green meadow, classical art, impressionism, loose brush strokes, bright painting, Outdoors*"
   ]
  },
  {
   "cell_type": "markdown",
   "metadata": {},
   "source": [
    "This image prompt is essentially a combination of the following elements:\n",
    "- Foreground\n",
    "- Background\n",
    "- Descriptors\n",
    "\n",
    "**Foreground:** The main subject in your image - *Acrylic painting of a cat*\n",
    "\n",
    "**Background:** The background in your image - *green meadow*\n",
    "\n",
    "**Descriptors:** Terms that describe the nature and style of your image - *classical art*, *impressionism*, *loose brush strokes*, and so on\n",
    "\n",
    "These components of an image prompt can be populated by **keywords** that the image model understands. Recall some prompts that you may have written for ChatGPT. What are some differences between image prompts and text prompts?\n",
    "\n",
    "In text prompts, with the help of roles, few shot examples, and chain of thoughts reasoning, we tell the model *how* to solve a problem. Whereas in case of image prompts, we need to describe *what* the image should look like in great detail.\n",
    "\n",
    "Before we move on to important keywords associated with image model prompting, let's first take a look at the motivations behind and the developmental history of image generation models."
   ]
  },
  {
   "cell_type": "markdown",
   "metadata": {},
   "source": [
    "### 2. Important Terminolgy Related to Image Prompting"
   ]
  },
  {
   "cell_type": "markdown",
   "metadata": {},
   "source": [
    "There are many ways to categorize keywords, but here are some popular ones:\n",
    "\n",
    "- **Style:** *photograph*, *digital illustration*, *3D model*, ...\n",
    "- **Medium:** *oil*, *watercolor*, *pencil*, *ink*, *pastel*, ...\n",
    "- **Artists:** *van Gogh*, *Picasso*, *Monet*, ...\n",
    "- **Media:** *Instagram*, *Pinterest*, *ArtStation*, ...\n",
    "- **Effects:** *high-resolution*, *grainy*, *pixelated*, ...\n",
    "- **Color:** *monochrome*, *sepia*, *vibrant*, *warm tones*, *cool tones*, *neutral tones*, ...\n",
    "- **Lighting:** *backlit*, *twilight*, *spotlight*, ...\n",
    "- **Camera:** *fisheye*, *wide-angle*, *pinhole*, ...\n",
    "- **Perspective:** *bird's eye view*, *first person*, *cross section*, ...\n",
    "- **Artistic movement:** *realism*, *surrealism*, *impressionism*, *romanticism*, ..."
   ]
  },
  {
   "cell_type": "markdown",
   "metadata": {},
   "source": [
    "### 3. Prompting using UI\n",
    "- https://chatgpt.com/?model=gpt-4o [closed sourse]\n",
    "- https://huggingface.co/spaces/stabilityai/stable-diffusion [HuggingFace]\n",
    "- https://playground.com/ [Free Tier]\n",
    "- https://dreamstudio.ai/account [Free Credit]"
   ]
  },
  {
   "cell_type": "markdown",
   "metadata": {},
   "source": [
    "**Basic Style:**\n",
    "A photograph of a cat.\n",
    "\n",
    "**Medium:**\n",
    "A photograph of a cat in watercolor.\n",
    "\n",
    "**Artist Influence:**\n",
    "A watercolor painting of a cat in the style of van Gogh.\n",
    "\n",
    "**Color:**\n",
    "A vibrant watercolor painting of a cat in the style of van Gogh.\n",
    "\n",
    "**Lighting:**\n",
    "A vibrant watercolor painting of a cat in the style of van Gogh, backlit.\n",
    "\n",
    "**Effect:**\n",
    "A high-resolution, vibrant watercolor painting of a cat in the style of van Gogh, backlit.\n",
    "\n",
    "**Camera Perspective:**\n",
    "A high-resolution, vibrant watercolor painting of a cat in the style of van Gogh, backlit, from a bird's eye view.\n",
    "\n",
    "**Medium Variation:**\n",
    "An oil painting of a cat in the style of van Gogh, backlit, from a bird's eye view.\n",
    "\n",
    "**Artistic Movement:**\n",
    "An impressionist oil painting of a cat in the style of van Gogh, backlit, from a bird's eye view.\n",
    "\n",
    "**Additional Detail:**\n",
    "An impressionist oil painting of a cat in the style of van Gogh, backlit, from a bird's eye view, with vibrant colors and a spotlight on the cat."
   ]
  },
  {
   "cell_type": "markdown",
   "metadata": {},
   "source": [
    "### 4. Prompting using Code [Stable Diffusion]"
   ]
  },
  {
   "cell_type": "markdown",
   "metadata": {},
   "source": [
    "**Google Colab:** Seperate file open in google colab."
   ]
  }
 ],
 "metadata": {
  "kernelspec": {
   "display_name": "Python 3",
   "language": "python",
   "name": "python3"
  },
  "language_info": {
   "codemirror_mode": {
    "name": "ipython",
    "version": 3
   },
   "file_extension": ".py",
   "mimetype": "text/x-python",
   "name": "python",
   "nbconvert_exporter": "python",
   "pygments_lexer": "ipython3",
   "version": "3.11.9"
  }
 },
 "nbformat": 4,
 "nbformat_minor": 2
}
