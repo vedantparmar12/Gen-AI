{
 "cells": [
  {
   "cell_type": "markdown",
   "metadata": {},
   "source": [
    "### Noise Generation"
   ]
  },
  {
   "cell_type": "code",
   "execution_count": null,
   "metadata": {},
   "outputs": [],
   "source": [
    "from PIL import Image\n",
    "import numpy as np\n",
    "\n",
    "# Define the size of the image\n",
    "width, height = 256, 256\n",
    "\n",
    "# Generate random noise\n",
    "noise = np.random.randint(0, 256, (height, width, 3), dtype=np.uint8)\n",
    "\n",
    "# Create an image from the noise\n",
    "noise_image = Image.fromarray(noise, 'RGB')\n",
    "\n",
    "# Save the noise image\n",
    "noise_image_path = '../data/noise_image.png'\n",
    "noise_image.save(noise_image_path)\n",
    "\n",
    "print(f'Noise image has been saved to {noise_image_path}')"
   ]
  }
 ],
 "metadata": {
  "kernelspec": {
   "display_name": "Python 3",
   "language": "python",
   "name": "python3"
  },
  "language_info": {
   "codemirror_mode": {
    "name": "ipython",
    "version": 3
   },
   "file_extension": ".py",
   "mimetype": "text/x-python",
   "name": "python",
   "nbconvert_exporter": "python",
   "pygments_lexer": "ipython3",
   "version": "3.11.9"
  }
 },
 "nbformat": 4,
 "nbformat_minor": 2
}
