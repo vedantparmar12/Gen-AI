{
 "cells": [
  {
   "cell_type": "code",
   "execution_count": null,
   "metadata": {},
   "outputs": [],
   "source": [
    "# install the lib\n",
    "# pip install llama-index\n",
    "# pip install llama-hub\n",
    "# pip install openai\n",
    "# for create the venv --- python -m venv <venv-name>\n",
    "# command for activate the venv ./venv_name/Scripts/activate "
   ]
  },
  {
   "cell_type": "code",
   "execution_count": 1,
   "metadata": {},
   "outputs": [],
   "source": [
    "# setting up the openai api key in os envoirment \n",
    "import os \n",
    "import openai\n",
    "os.environ[\"OPENAI_API_KEY\"] = \"sk-xxxxx\"\n",
    "openai.api_key = \"sk-xxxxx\""
   ]
  },
  {
   "cell_type": "code",
   "execution_count": 2,
   "metadata": {},
   "outputs": [],
   "source": [
    "from llama_index.core import SimpleDirectoryReader,VectorStoreIndex\n",
    "document = SimpleDirectoryReader(r\"D:\\llmaIndex-2\\data_folder\").load_data()"
   ]
  },
  {
   "cell_type": "code",
   "execution_count": 4,
   "metadata": {},
   "outputs": [
    {
     "data": {
      "text/plain": [
       "[Document(id_='5a9a749b-c729-4fa0-aade-6d97881ccb86', embedding=None, metadata={'file_path': 'D:\\\\llmaIndex-2\\\\data_folder\\\\1pdf_log.txt', 'file_name': '1pdf_log.txt', 'file_type': 'text/plain', 'file_size': 2911, 'creation_date': '2024-04-30', 'last_modified_date': '2022-05-02'}, excluded_embed_metadata_keys=['file_name', 'file_type', 'file_size', 'creation_date', 'last_modified_date', 'last_accessed_date'], excluded_llm_metadata_keys=['file_name', 'file_type', 'file_size', 'creation_date', 'last_modified_date', 'last_accessed_date'], relationships={}, text=\"\\uf095 9176163248\\n\\uf0e0 arushigupta9431@gmail.com\\n\\uf041 Bengaluru\\n\\uf0e1 arushigupta05\\nARUSHI GUPTA\\nSenior System Engineer\\nSUMMARY\\n3.5 years experienced Front-End Web Developer  skilled in UI development with React JS, testing etc. Adept at end to end UI \\ndevelopment including requirement gathering, coding & unit & integration testing. Looking forward to widen my skills and experience \\nin a challenging opportunity in professional organization.\\nPROFESSIONAL EXPERIENCE\\nInfosys Limited\\nBank Of America\\nThe Bank of America Corporation is an American multinational investment bank and financial services holding company\\nProduct: A workplace to store and manage the underwriting documents of the bank.\\nFrontend: React TypeScript, HTML5 , CSS3, Material UI\\nDeveloped multiple screens for the application, reusable components such as  Dialog Box, Tables etc.\\nDec '17 - Present\\nIntegrated the API's to fetch data from clients data base and to add to the database.\\nTested the screens with Jest and Enzyme.\\nBlume Global\\nA US based logistics platform provider, building cloud solutions in the areas of shipment planning , logistics execution and finance.\\nProduct: Modules to store data for delivering products and services more efficiently for assets, visibility, finance, optimization and \\nlogistics.\\nFrontend: React JS, Javascript, HTML5 , CSS3, Material UI\\nDeveloped forms like structure, accordians, autofills , etc that will help the driver to deliver to particular address and help client \\nstore the logs.\\nIdentify recurrent problems with existing sites and come up with fixes.\\nLangiage localisation for application to be available in required languages.\\nIntegrated the API's to fetch data from clients data base and to add to the database.\\nSysco\\nA US based MNC inolved in distribution of food products, smallwares, kitchenware equipments to restraunts, healthcare facilities , hotels , etc.\\nProduct: Developed application to view and update the freight rate and pickup allowances for multiple vendors across US. And also  \\ndeveloped a part of content management tool to manage the financial documents of the client.\\nFrontend: React JS, Redux,  Javascript HTML5 , CSS3, Bootstrap\\nDeveloped user friendly responsive screens for the application.\\nCreated the country based login screen and dashboard.\\nWorked in application design and architecture to add all the details of the vendor and freight rates.\\nIntegrated the API's to fetch data from clients data base and to add to the database.\\nUI Development \\nUnit Testing\\n Agile Methodology\\n Code Optimization \\nDocumentation\\nKEY SKILLS\\nTECHNICAL SKILLS\\nTechnologies: JavaScript, React JS, Redux, Hooks, HTML5, CSS3, Typescript\\nCSS : CSS3, Bootstrap, Material UI\\nTesting Tools: Jest and Enzyme\\nCERTIFICATIONS\\nUdacity certified Front End Web Developer Nanodegree Program\\nEDUCATION\\nSRM University\\nB.Tech in Electronics and Communications\\nCreated Using\\nApr '13 - May '17\\nChennai, TN\\n\", start_char_idx=None, end_char_idx=None, text_template='{metadata_str}\\n\\n{content}', metadata_template='{key}: {value}', metadata_seperator='\\n'),\n",
       " Document(id_='9cf6f73a-ece3-43bc-8dbe-a2658bb836da', embedding=None, metadata={'file_path': 'D:\\\\llmaIndex-2\\\\data_folder\\\\2pdf_log.txt', 'file_name': '2pdf_log.txt', 'file_type': 'text/plain', 'file_size': 700, 'creation_date': '2024-04-30', 'last_modified_date': '2022-05-02'}, excluded_embed_metadata_keys=['file_name', 'file_type', 'file_size', 'creation_date', 'last_modified_date', 'last_accessed_date'], excluded_llm_metadata_keys=['file_name', 'file_type', 'file_size', 'creation_date', 'last_modified_date', 'last_accessed_date'], relationships={}, text=\"Email ID\\nraoashutosh0000@gmail.com\\n:\\n:\\nAddress\\nHno-14 opp gov school Mirzapur tigaon road ballabgarh, Faridabad, Haryana, India - 121004\\nFresh graduate eager to use my knowledge and learn new skills to contribute to your company's growth.\\nAshish yadav\\nMobile\\n8700791076\\n:\\nObjective\\nEducation\\nCollege\\nmanav rachna international university, Bachelor - B.tech\\nSchool\\nntpc sachdeva international school\\nWork Experience\\nmaac institute\\nFaridabad, India\\nfresher\\nDone project named - BRANIA:- AN INTELLIGENT ASSISTENT\\nSkills & Interests\\nHobbies:\\nPlaying Cricket Reading\\n, \\nOther Work Skills\\nCreating Presentations\\nMicrosoft Excel\\nPYTHON PROGRAMMING\\nFull Time, May 2020\\nMarch 2014\\nJune 2019 - August 2019\\n   \\n\", start_char_idx=None, end_char_idx=None, text_template='{metadata_str}\\n\\n{content}', metadata_template='{key}: {value}', metadata_seperator='\\n'),\n",
       " Document(id_='8d368731-74df-48c8-a409-0e1bd7b2bbb8', embedding=None, metadata={'file_path': 'D:\\\\llmaIndex-2\\\\data_folder\\\\3pdf_log.txt', 'file_name': '3pdf_log.txt', 'file_type': 'text/plain', 'file_size': 6663, 'creation_date': '2024-04-30', 'last_modified_date': '2022-05-02'}, excluded_embed_metadata_keys=['file_name', 'file_type', 'file_size', 'creation_date', 'last_modified_date', 'last_accessed_date'], excluded_llm_metadata_keys=['file_name', 'file_type', 'file_size', 'creation_date', 'last_modified_date', 'last_accessed_date'], relationships={}, text='Ashish   Sinha   \\xa0\\nMachine   Learning   Engineer   \\xa0\\nSector   168,   Noida,   Uttar   pradesh,   201304    *    +91-8889682639    *     ashishsavitrisinha96@gmail.com    \\xa0\\xa0\\n\\xa0\\n \\xa0\\nCAREER   OBJECTIVE \\n \\nI   have   2   year   of   industry   experience   with   a   decent   academic   record   and   looking   forward   to   utilizing   the   best   of  \\xa0\\nmy   knowledge   in   the   field   of   Machine   Learning.   Having   skill   in   Machine   Learning,   Deep   learning,   Artificial  \\xa0\\nIntelligence.   I   Hope   to   focus   more   on   machine   learning   and   data   science   in   my   future   career.   \\xa0\\n \\xa0\\nTECHNICAL   EXPERTISE \\n \\xa0\\n\\xa0\\n\\xa0\\n● Strong   IT   experience   in   analysis,   design,   development,   implementation   and   testing   of   Image  \\xa0\\nclassification   systems   in    Python    &    Deep-Learning    technologies.   \\xa0\\n● Expertise   in   working   with   various    Deep   Learning    technologies   like    Tensorflow(Gpu) ,    Keras,   Fast   AI ,  \\xa0\\n&    Pytorch .   \\xa0\\nanalysis.   \\xa0\\nPlotly .   \\xa0\\n● Expertise   in    NLP    with   various   technologies   like    Spacy ,    Gensim    &    Sentiment   Analysis .   \\xa0\\n● Expertise   in    Data   Analysis    with   machine   learning’s   technologies    Pandas ,    Sci-kit   learn    for   predictive  \\xa0\\n● Expertise   in    Data   Visualization    with   various   technologies   like    Matplot-lib ,    Seaborn ,    Bokeh    and  \\xa0\\n● Expertise   in   model   deployment   using    Restful   Api   flask .   \\xa0\\n● Hand-on   experience   of    Django    and    Flask    as   backend   technologies.   \\xa0\\n● Good   knowledge   in   web   scraping   using    Scrapy    ,    Beautiful   Soup    technologies.   \\xa0\\n \\xa0\\nTECHNICAL   SKILLS \\nPython,   C,   C++,   MySql,   Tensorflow,   Keras,   Pytorch,   Fast   AI,   Yolo,   Image   processing,   AWS   EC2  \\xa0\\nInstance,   Flask,   Django,   Scrapy   \\xa0\\n \\xa0\\n \\xa0\\n \\xa0\\nPROFESSIONAL   EXPERIENCE \\nO RGANIZATION :   U MAGINE S OFT    P VT .   L TD .   \\xa0\\nRole:   Machine   Learning   Engineer,   Sep   2019   –   present   \\xa0\\n \\xa0\\nI   am   working   as   a   Machine   Learning   Engineer   in   the   Project   development   domain.   We   have   a   team   of   3  \\xa0\\nmembers   of   technical   staff.   My   basic   task   is   to   develop   an   optimized   solution   from   a   Deep   learning   end   for   a  \\xa0\\nparticular   required   scenario.   \\xa0\\n \\xa0\\nKey   Responsibility   -   \\xa0\\n \\xa0\\n● Our   team   member   of   three   made   a   recommender   system   for   umaginesoft   platform(WizKonnect),   along   with  \\xa0\\nit   my   basic   task   is   to   develop   a   filter   for   image   classification(NSFW)   to   make   our   platform   consistently   best  \\xa0\\nto   face   such   type   of   irregularity,   I   used   cnn   for   classification   with   computer   vision   technique.   \\xa0\\n● Single   handedly   develop   a   deep   learning   model   to   analyse   security   threats   with   high   priority   regarding  \\xa0\\nfirearm   detection   with   great   resolution   also,   using   the   most   iconic   technique    Yolo.   \\xa0\\n● Our   team   was   assigned   to   develop   a   seminar   feedback   system   with   an   automated   machine   learning   model,  \\xa0\\nwhich   gives   feedback   of   any   seminar,   through   computer   vision   technique.    \\n\\xa0\\xa0\\n● Our   team   made   a   product   for   human   activity   recognition   through   2d-pose   estimation   and   some   of   our   basic  \\xa0\\nalgorithms.(cycling   was   one   of   the   best   and   challenging   activity)   \\xa0\\n● Worked   on   sentiment   analysis   and   emotion   classification   systems   after   using    web   scraping.   \\xa0\\n \\xa0\\n \\xa0\\n \\xa0\\nEnvironment   &   Tools/IDE:    Python,   MySql,   Tensorflow,   Keras,Fast   AI,   Darknet’s   Yolo,   Lableimg,   Git,  \\xa0\\nAnaconda,   Spider,   OpenCV,   Pandas,   Scikit   Learn,Flask,   Linux.    \\n\\xa0\\xa0\\n \\xa0\\nO RGANIZATION :   ART   -   A BSTINENT    R ESEARCH    &   T ECHNOLOGIES   \\xa0\\nRole:   Machine   Learning   Intern ,    Aug   2019   –   Sep   2019   \\xa0\\n\\xa0\\nIt   was   my   first   paid   internship   after   my   B.Tech,   Here   I   got   an   opportunity   to   work   with   open-cv   but   this   time   on  \\xa0\\na   real   world   problem.My   basic   task   is   to   provide   an   optimized   out-put   with   machine   learning   technique.   \\xa0\\n \\xa0\\nKey   Responsibility   -   \\xa0\\n \\xa0\\n● I   made   a   system   for   identity   recognition   to   prepare   and   maintain   records   and   case   files,   including  \\xa0\\ndocumentation   such   as   user   personal   and   eligibility   information,   services   provided,   narratives   of   client  \\xa0\\ncontacts,   and   relevant   correspondence.   \\xa0\\n● Coordinate   with   the   team   to   develop   a   project   regarding   foot   fall   counting   using   transfer   learning(Res-net)  \\xa0\\nwith   70-80%   accuracy.   \\xa0\\n \\xa0\\nEnvironment   &   Tools/IDE:    Python,   SQLite,   Tensorflow,   Keras,   Anaconda,   Spider,   OpenCV,   Pandas,   Scikit  \\xa0\\nLearn,Flask,   Linux,   ResNet.    \\n\\xa0\\xa0\\n \\xa0\\nO RGANIZATION :    FINAMICS   GLOBAL   \\xa0\\nRole:   Research   Intern,   Nov   2018   -   Jan   2019    \\xa0\\xa0\\n \\xa0\\nWe   are   a   team   of   3   responsible   for   research   machine   learning   algorithms   as   well   as   finance   here,   so   our   team  \\xa0\\ncould   make   effective   solution   for   stock   market   trading.(R&D)   \\xa0\\n● We   pre-processed   our   time   series   data   of   the   stock   market   and   then   finally   we   made   a   model   with  \\xa0\\ntensorflow   using   LSTM   with   very   minimal   loss.We   made   an   agent   for   self   trading   which   uses   a  \\xa0\\nreinforcement   algorithm.   \\xa0\\n \\xa0\\n \\xa0\\nEDUCATION \\nJIWAJI   UNIVERSITY ,   GWALIOR,   MP   \\xa0\\nBachelor   of   Engineering   in   Computer   Science,   JUNE   2019   \\xa0\\n● Percentage   -    70%   \\xa0\\n \\xa0\\nHigher   Secondary   MP   BOARD   \\xa0\\n● Percentage   -    87%   \\xa0\\n \\xa0\\nCERTIFICATION   \\xa0\\nDeep   learning   Specialization   -    Deeplearning.AI   (Coursera)   \\xa0\\nMachine   learning   with   python   -     Udemy   \\xa0\\npython   Specialization   -    University   of   Michigan    (Coursera)   \\xa0\\nNLP   Bootcamp   -    Datacamp   \\xa0\\n \\xa0\\nACHIEVEMENTS   &   RECOGNITION   \\xa0\\n● Client   Appreciation   for   handling   multiple   tasks   at   same   time   under   tight   deadlines.   \\xa0\\n● Recognition   from   lead   for   being   an   excellent   team   player.   \\xa0\\n● Coordinator   of   my   university   youth   fest   2018.   \\xa0\\n● 2   nd   Finisher   in   IoT   Solution   Development   Competition   at   IIT   Kanpur.   \\xa0\\n \\xa0\\n \\xa0\\n \\xa0\\n', start_char_idx=None, end_char_idx=None, text_template='{metadata_str}\\n\\n{content}', metadata_template='{key}: {value}', metadata_seperator='\\n')]"
      ]
     },
     "execution_count": 4,
     "metadata": {},
     "output_type": "execute_result"
    }
   ],
   "source": [
    "document"
   ]
  },
  {
   "cell_type": "code",
   "execution_count": 5,
   "metadata": {},
   "outputs": [
    {
     "name": "stderr",
     "output_type": "stream",
     "text": [
      "d:\\llmaIndex-2\\llidx_venv\\lib\\site-packages\\tqdm\\auto.py:21: TqdmWarning: IProgress not found. Please update jupyter and ipywidgets. See https://ipywidgets.readthedocs.io/en/stable/user_install.html\n",
      "  from .autonotebook import tqdm as notebook_tqdm\n",
      "Generating embeddings: 100%|██████████| 3/3 [00:01<00:00,  2.25it/s]\n"
     ]
    }
   ],
   "source": [
    "index = VectorStoreIndex(document,show_progress=True)"
   ]
  },
  {
   "cell_type": "code",
   "execution_count": 6,
   "metadata": {},
   "outputs": [],
   "source": [
    "query_engine = index.as_query_engine()"
   ]
  },
  {
   "cell_type": "code",
   "execution_count": 8,
   "metadata": {},
   "outputs": [],
   "source": [
    "ans  = query_engine.query(\"give me the list of the candidates\")"
   ]
  },
  {
   "cell_type": "code",
   "execution_count": 9,
   "metadata": {},
   "outputs": [
    {
     "data": {
      "text/plain": [
       "'Ashutosh Rao, Ashish Yadav, Ashish Sinha'"
      ]
     },
     "execution_count": 9,
     "metadata": {},
     "output_type": "execute_result"
    }
   ],
   "source": [
    "ans.response"
   ]
  },
  {
   "cell_type": "markdown",
   "metadata": {},
   "source": [
    "## pprint response"
   ]
  },
  {
   "cell_type": "code",
   "execution_count": 11,
   "metadata": {},
   "outputs": [
    {
     "name": "stdout",
     "output_type": "stream",
     "text": [
      "Final Response: Ashutosh Rao, Ashish Yadav, Ashish Sinha\n",
      "______________________________________________________________________\n",
      "Source Node 1/2\n",
      "Node ID: 9cf6f73a-ece3-43bc-8dbe-a2658bb836da\n",
      "Similarity: 0.7429281407217315\n",
      "Text: Email ID raoashutosh0000@gmail.com : : Address Hno-14 opp gov\n",
      "school Mirzapur tigaon road ballabgarh, Faridabad, Haryana, India -\n",
      "121004 Fresh graduate eager to use my knowledge and learn new skills\n",
      "to contribute to your company's growth. Ashish yadav Mobile 8700791076\n",
      ": Objective Education College manav rachna international university,\n",
      "Bachelor...\n",
      "______________________________________________________________________\n",
      "Source Node 2/2\n",
      "Node ID: 8d368731-74df-48c8-a409-0e1bd7b2bbb8\n",
      "Similarity: 0.7113559106016046\n",
      "Text: Ashish   Sinha     Machine   Learning   Engineer     Sector\n",
      "168,   Noida,   Uttar   pradesh,   201304    *    +91-8889682639    *\n",
      "ashishsavitrisinha96@gmail.com            CAREER   OBJECTIVE    I\n",
      "have   2   year   of   industry   experience   with   a   decent\n",
      "academic   record   and   looking   forward   to   utilizing   the\n",
      "best   ...\n"
     ]
    }
   ],
   "source": [
    "from llama_index.core.response.pprint_utils import pprint_response\n",
    "pprint_response(ans,show_source=True)"
   ]
  },
  {
   "cell_type": "code",
   "execution_count": 12,
   "metadata": {},
   "outputs": [],
   "source": [
    "ans  = query_engine.query(\"How many years of expirence Ashish Yadav has?\")"
   ]
  },
  {
   "cell_type": "code",
   "execution_count": 13,
   "metadata": {},
   "outputs": [
    {
     "name": "stdout",
     "output_type": "stream",
     "text": [
      "Final Response: Ashish Yadav has no specified years of experience\n",
      "mentioned in the provided context information.\n",
      "______________________________________________________________________\n",
      "Source Node 1/2\n",
      "Node ID: 9cf6f73a-ece3-43bc-8dbe-a2658bb836da\n",
      "Similarity: 0.8102287158724969\n",
      "Text: Email ID raoashutosh0000@gmail.com : : Address Hno-14 opp gov\n",
      "school Mirzapur tigaon road ballabgarh, Faridabad, Haryana, India -\n",
      "121004 Fresh graduate eager to use my knowledge and learn new skills\n",
      "to contribute to your company's growth. Ashish yadav Mobile 8700791076\n",
      ": Objective Education College manav rachna international university,\n",
      "Bachelor...\n",
      "______________________________________________________________________\n",
      "Source Node 2/2\n",
      "Node ID: 8d368731-74df-48c8-a409-0e1bd7b2bbb8\n",
      "Similarity: 0.7635708138303021\n",
      "Text: Ashish   Sinha     Machine   Learning   Engineer     Sector\n",
      "168,   Noida,   Uttar   pradesh,   201304    *    +91-8889682639    *\n",
      "ashishsavitrisinha96@gmail.com            CAREER   OBJECTIVE    I\n",
      "have   2   year   of   industry   experience   with   a   decent\n",
      "academic   record   and   looking   forward   to   utilizing   the\n",
      "best   ...\n"
     ]
    }
   ],
   "source": [
    "pprint_response(ans,show_source=True)"
   ]
  },
  {
   "cell_type": "markdown",
   "metadata": {},
   "source": [
    "## Retriever"
   ]
  },
  {
   "cell_type": "code",
   "execution_count": 14,
   "metadata": {},
   "outputs": [],
   "source": [
    "from llama_index.core.retrievers import VectorIndexRetriever\n",
    "from llama_index.core.query_engine import RetrieverQueryEngine"
   ]
  },
  {
   "cell_type": "code",
   "execution_count": 17,
   "metadata": {},
   "outputs": [],
   "source": [
    "retrever = VectorIndexRetriever(\n",
    "    index = index,\n",
    "    similarity_top_k = 3\n",
    ")"
   ]
  },
  {
   "cell_type": "code",
   "execution_count": 18,
   "metadata": {},
   "outputs": [],
   "source": [
    "query_engine = RetrieverQueryEngine(retriever=retrever)"
   ]
  },
  {
   "cell_type": "code",
   "execution_count": 19,
   "metadata": {},
   "outputs": [],
   "source": [
    "ans  = query_engine.query(\"how many years of the expirence Arushi Gupta has ?\")"
   ]
  },
  {
   "cell_type": "code",
   "execution_count": 20,
   "metadata": {},
   "outputs": [
    {
     "name": "stdout",
     "output_type": "stream",
     "text": [
      "Arushi Gupta has 3.5 years of experience.\n"
     ]
    }
   ],
   "source": [
    "print(ans)"
   ]
  },
  {
   "cell_type": "code",
   "execution_count": 21,
   "metadata": {},
   "outputs": [
    {
     "name": "stdout",
     "output_type": "stream",
     "text": [
      "Final Response: Arushi Gupta has 3.5 years of experience.\n",
      "______________________________________________________________________\n",
      "Source Node 1/3\n",
      "Node ID: 9cf6f73a-ece3-43bc-8dbe-a2658bb836da\n",
      "Similarity: 0.7817003254973488\n",
      "Text: Email ID raoashutosh0000@gmail.com : : Address Hno-14 opp gov\n",
      "school Mirzapur tigaon road ballabgarh, Faridabad, Haryana, India -\n",
      "121004 Fresh graduate eager to use my knowledge and learn new skills\n",
      "to contribute to your company's growth. Ashish yadav Mobile 8700791076\n",
      ": Objective Education College manav rachna international university,\n",
      "Bachelor...\n",
      "______________________________________________________________________\n",
      "Source Node 2/3\n",
      "Node ID: 5a9a749b-c729-4fa0-aade-6d97881ccb86\n",
      "Similarity: 0.7678972658709728\n",
      "Text:  9176163248  arushigupta9431@gmail.com  Bengaluru \n",
      "arushigupta05 ARUSHI GUPTA Senior System Engineer SUMMARY 3.5 years\n",
      "experienced Front-End Web Developer  skilled in UI development with\n",
      "React JS, testing etc. Adept at end to end UI  development including\n",
      "requirement gathering, coding & unit & integration testing. Looking\n",
      "forward to widen my...\n",
      "______________________________________________________________________\n",
      "Source Node 3/3\n",
      "Node ID: 8d368731-74df-48c8-a409-0e1bd7b2bbb8\n",
      "Similarity: 0.7497717185257341\n",
      "Text: Ashish   Sinha     Machine   Learning   Engineer     Sector\n",
      "168,   Noida,   Uttar   pradesh,   201304    *    +91-8889682639    *\n",
      "ashishsavitrisinha96@gmail.com            CAREER   OBJECTIVE    I\n",
      "have   2   year   of   industry   experience   with   a   decent\n",
      "academic   record   and   looking   forward   to   utilizing   the\n",
      "best   ...\n"
     ]
    }
   ],
   "source": [
    "pprint_response(ans,show_source=True)"
   ]
  },
  {
   "cell_type": "markdown",
   "metadata": {},
   "source": [
    "## SimilarityPostProcessor"
   ]
  },
  {
   "cell_type": "code",
   "execution_count": 25,
   "metadata": {},
   "outputs": [],
   "source": [
    "from llama_index.core.retrievers import VectorIndexRetriever\n",
    "from llama_index.core.query_engine import RetrieverQueryEngine\n",
    "from llama_index.core.postprocessor import SimilarityPostprocessor\n",
    "s_processor = SimilarityPostprocessor(similarity_cutoff=0.75)\n",
    "retrever = VectorIndexRetriever(\n",
    "    index = index,\n",
    "    similarity_top_k = 3\n",
    ")\n",
    "query_engine = RetrieverQueryEngine(retriever=retrever,node_postprocessors=[s_processor])"
   ]
  },
  {
   "cell_type": "code",
   "execution_count": 26,
   "metadata": {},
   "outputs": [],
   "source": [
    "ans  = query_engine.query(\"how many years of the expirence Arushi Gupta has ?\")"
   ]
  },
  {
   "cell_type": "code",
   "execution_count": 27,
   "metadata": {},
   "outputs": [
    {
     "name": "stdout",
     "output_type": "stream",
     "text": [
      "Final Response: Arushi Gupta has 3.5 years of experience.\n",
      "______________________________________________________________________\n",
      "Source Node 1/2\n",
      "Node ID: 9cf6f73a-ece3-43bc-8dbe-a2658bb836da\n",
      "Similarity: 0.7817003254973488\n",
      "Text: Email ID raoashutosh0000@gmail.com : : Address Hno-14 opp gov\n",
      "school Mirzapur tigaon road ballabgarh, Faridabad, Haryana, India -\n",
      "121004 Fresh graduate eager to use my knowledge and learn new skills\n",
      "to contribute to your company's growth. Ashish yadav Mobile 8700791076\n",
      ": Objective Education College manav rachna international university,\n",
      "Bachelor...\n",
      "______________________________________________________________________\n",
      "Source Node 2/2\n",
      "Node ID: 5a9a749b-c729-4fa0-aade-6d97881ccb86\n",
      "Similarity: 0.7678972658709728\n",
      "Text:  9176163248  arushigupta9431@gmail.com  Bengaluru \n",
      "arushigupta05 ARUSHI GUPTA Senior System Engineer SUMMARY 3.5 years\n",
      "experienced Front-End Web Developer  skilled in UI development with\n",
      "React JS, testing etc. Adept at end to end UI  development including\n",
      "requirement gathering, coding & unit & integration testing. Looking\n",
      "forward to widen my...\n"
     ]
    }
   ],
   "source": [
    "pprint_response(ans,show_source=True)"
   ]
  },
  {
   "cell_type": "markdown",
   "metadata": {},
   "source": [
    "# Persisting Index"
   ]
  },
  {
   "cell_type": "code",
   "execution_count": 28,
   "metadata": {},
   "outputs": [
    {
     "name": "stderr",
     "output_type": "stream",
     "text": [
      "Generating embeddings: 100%|██████████| 3/3 [00:00<00:00,  3.42it/s]\n"
     ]
    }
   ],
   "source": [
    "from llama_index.core import VectorStoreIndex\n",
    "from llama_index.core import  SimpleDirectoryReader\n",
    "documents = SimpleDirectoryReader(r\"D:\\llamaIndex\\data_folder\").load_data()\n",
    "index = VectorStoreIndex(documents,show_progress = True)"
   ]
  },
  {
   "cell_type": "code",
   "execution_count": 30,
   "metadata": {},
   "outputs": [],
   "source": [
    "index.storage_context.persist(persist_dir=r\"D:\\llmaIndex-2\\storage\\cache\\resume\\sleep\")"
   ]
  },
  {
   "cell_type": "code",
   "execution_count": 31,
   "metadata": {},
   "outputs": [],
   "source": [
    "# for readinf the index from the disk we use StorageContext , load_index_from_storage\n",
    "from llama_index.core import StorageContext,load_index_from_storage\n",
    "storage_context = StorageContext.from_defaults(persist_dir=r\"D:\\llmaIndex-2\\storage\\cache\\resume\\sleep\")\n",
    "index = load_index_from_storage(storage_context)"
   ]
  },
  {
   "cell_type": "markdown",
   "metadata": {},
   "source": [
    "## how to count tokens used when creating and querying llamaIndex"
   ]
  },
  {
   "cell_type": "code",
   "execution_count": 32,
   "metadata": {},
   "outputs": [],
   "source": [
    "import tiktoken\n",
    "from llama_index.core import ServiceContext\n",
    "from llama_index.core.callbacks import CallbackManager,TokenCountingHandler\n"
   ]
  },
  {
   "cell_type": "code",
   "execution_count": 33,
   "metadata": {},
   "outputs": [
    {
     "name": "stderr",
     "output_type": "stream",
     "text": [
      "C:\\Users\\User\\AppData\\Local\\Temp\\ipykernel_9092\\799072434.py:6: DeprecationWarning: Call to deprecated class method from_defaults. (ServiceContext is deprecated, please use `llama_index.settings.Settings` instead.) -- Deprecated since version 0.10.0.\n",
      "  service_context = ServiceContext.from_defaults(callback_manager=callback_manager)\n"
     ]
    }
   ],
   "source": [
    "token_counter = TokenCountingHandler(\n",
    "    tokenizer=tiktoken.encoding_for_model(\"text-embedding-ada-002\").encode,\n",
    "    verbose=True\n",
    ")\n",
    "callback_manager = CallbackManager([token_counter])\n",
    "service_context = ServiceContext.from_defaults(callback_manager=callback_manager)"
   ]
  },
  {
   "cell_type": "code",
   "execution_count": 34,
   "metadata": {},
   "outputs": [
    {
     "name": "stderr",
     "output_type": "stream",
     "text": [
      "Generating embeddings:   0%|          | 0/3 [00:00<?, ?it/s]"
     ]
    },
    {
     "name": "stdout",
     "output_type": "stream",
     "text": [
      "Embedding Token Usage: 2767\n"
     ]
    },
    {
     "name": "stderr",
     "output_type": "stream",
     "text": [
      "Generating embeddings: 100%|██████████| 3/3 [00:01<00:00,  2.58it/s]\n"
     ]
    }
   ],
   "source": [
    "index = VectorStoreIndex(document,show_progress=True,service_context=service_context)"
   ]
  },
  {
   "cell_type": "code",
   "execution_count": 35,
   "metadata": {},
   "outputs": [],
   "source": [
    "query_engine = index.as_query_engine()"
   ]
  },
  {
   "cell_type": "code",
   "execution_count": null,
   "metadata": {},
   "outputs": [],
   "source": []
  }
 ],
 "metadata": {
  "kernelspec": {
   "display_name": "llidx_venv",
   "language": "python",
   "name": "python3"
  },
  "language_info": {
   "codemirror_mode": {
    "name": "ipython",
    "version": 3
   },
   "file_extension": ".py",
   "mimetype": "text/x-python",
   "name": "python",
   "nbconvert_exporter": "python",
   "pygments_lexer": "ipython3",
   "version": "3.10.4"
  }
 },
 "nbformat": 4,
 "nbformat_minor": 2
}
