{
  "nbformat": 4,
  "nbformat_minor": 0,
  "metadata": {
    "colab": {
      "provenance": [],
      "gpuType": "T4"
    },
    "kernelspec": {
      "name": "python3",
      "display_name": "Python 3"
    },
    "language_info": {
      "name": "python"
    },
    "accelerator": "GPU"
  },
  "cells": [
    {
      "cell_type": "code",
      "source": [
        "%%capture\n",
        "!pip install datasets --no-build-isolation\n",
        "!pip install seqeval\n",
        "!pip install transformers[torch]"
      ],
      "metadata": {
        "id": "NT2unjp8ywsU"
      },
      "execution_count": null,
      "outputs": []
    },
    {
      "cell_type": "code",
      "source": [
        "from datasets import load_dataset\n",
        "from transformers import AutoTokenizer, AutoModelForTokenClassification, TrainingArguments, Trainer, DataCollatorForTokenClassification\n",
        "import torch\n",
        "import numpy as np\n",
        "from datasets import load_metric"
      ],
      "metadata": {
        "id": "0uicS9k24JFs"
      },
      "execution_count": null,
      "outputs": []
    },
    {
      "cell_type": "markdown",
      "source": [
        "# CoNLL-2003 Dataset Description\n",
        "\n",
        "The CoNLL-2003 dataset is widely used for training and evaluating Named Entity Recognition (NER) models. The dataset focuses on four types of named entities: persons (PER), locations (LOC), organizations (ORG), and miscellaneous entities (MISC).\n",
        "\n",
        "## Dataset Structure:\n",
        "Each data file contains four columns separated by a single space:\n",
        "1. Word\n",
        "2. Part-of-Speech (POS) tag\n",
        "3. Syntactic chunk tag\n",
        "4. Named entity tag\n",
        "\n",
        "Words are listed on separate lines, and sentences are separated by a blank line.\n",
        "The chunk and named entity tags follow the IOB2 tagging scheme:\n",
        "- `B-TYPE`: Beginning of a phrase of type TYPE\n",
        "- `I-TYPE`: Inside a phrase of type TYPE\n",
        "- `O`: Outside any named entity phrase\n",
        "\n",
        "## Example:\n",
        "```python\n",
        "{\n",
        "    \"chunk_tags\": [11, 12, 12, 21, 13, 11, 11, 21, 13, 11, 12, 13, 11, 21, 22, 11, 12, 17, 11, 21, 17, 11, 12, 12, 21, 22, 22, 13, 11, 0],\n",
        "    \"id\": \"0\",\n",
        "    \"ner_tags\": [0, 3, 4, 0, 0, 0, 0, 0, 0, 7, 0, 0, 0, 0, 0, 7, 0, 0, 0, 0, 0, 0, 0, 0, 0, 0, 0, 0, 0, 0],\n",
        "    \"pos_tags\": [12, 22, 22, 38, 15, 22, 28, 38, 15, 16, 21, 35, 24, 35, 37, 16, 21, 15, 24, 41, 15, 16, 21, 21, 20, 37, 40, 35, 21, 7],\n",
        "    \"tokens\": [\"The\", \"European\", \"Commission\", \"said\", \"on\", \"Thursday\", \"it\", \"disagreed\", \"with\", \"German\", \"advice\", \"to\", \"consumers\", \"to\", \"shun\", \"British\", \"lamb\", \"until\", \"scientists\", \"determine\", \"whether\", \"mad\", \"cow\", \"disease\", \"can\", \"be\", \"transmitted\", \"to\", \"sheep\", \".\"]\n",
        "}\n"
      ],
      "metadata": {
        "id": "G-SO7u775Hu4"
      }
    },
    {
      "cell_type": "markdown",
      "source": [
        "## Named Entity Tags\n",
        "- **O**: Outside a named entity\n",
        "- **B-PER**: Beginning of a person's name\n",
        "- **I-PER**: Inside a person's name\n",
        "- **B-ORG**: Beginning of an organization name\n",
        "- **I-ORG**: Inside an organization name\n",
        "- **B-LOC**: Beginning of a location name\n",
        "- **I-LOC**: Inside a location name\n",
        "- **B-MISC**: Beginning of miscellaneous entity\n",
        "- **I-MISC**: Inside a miscellaneous entity\n"
      ],
      "metadata": {
        "id": "UnDtOPVj6tgC"
      }
    },
    {
      "cell_type": "code",
      "source": [
        "# Load dataset\n",
        "dataset = load_dataset(\"conll2003\")"
      ],
      "metadata": {
        "id": "2ZOTwfKi4MSG"
      },
      "execution_count": null,
      "outputs": []
    },
    {
      "cell_type": "code",
      "source": [
        "dataset"
      ],
      "metadata": {
        "colab": {
          "base_uri": "https://localhost:8080/"
        },
        "id": "8T_jcJ60-tmS",
        "outputId": "1b2cacd6-507f-47b6-aeed-aac971d5578c"
      },
      "execution_count": null,
      "outputs": [
        {
          "output_type": "execute_result",
          "data": {
            "text/plain": [
              "DatasetDict({\n",
              "    train: Dataset({\n",
              "        features: ['id', 'tokens', 'pos_tags', 'chunk_tags', 'ner_tags'],\n",
              "        num_rows: 14041\n",
              "    })\n",
              "    validation: Dataset({\n",
              "        features: ['id', 'tokens', 'pos_tags', 'chunk_tags', 'ner_tags'],\n",
              "        num_rows: 3250\n",
              "    })\n",
              "    test: Dataset({\n",
              "        features: ['id', 'tokens', 'pos_tags', 'chunk_tags', 'ner_tags'],\n",
              "        num_rows: 3453\n",
              "    })\n",
              "})"
            ]
          },
          "metadata": {},
          "execution_count": 4
        }
      ]
    },
    {
      "cell_type": "code",
      "source": [
        "# Model checkpoint\n",
        "checkpoint = \"bert-base-cased\"\n",
        "# Load tokenizer\n",
        "tokenizer = AutoTokenizer.from_pretrained(checkpoint)"
      ],
      "metadata": {
        "id": "A2gGrDSK4Nm5"
      },
      "execution_count": null,
      "outputs": []
    },
    {
      "cell_type": "markdown",
      "source": [
        "## Token Labeling in NER: Use of `-100`\n",
        "\n",
        "In Named Entity Recognition (NER) tasks, the label `-100` is commonly used to signify that certain tokens should be ignored during the loss calculation in model training. This approach helps focus the learning on meaningful parts of the data. Here's an overview of the types of tokens typically assigned a `-100` label:\n",
        "\n",
        "### 1. **Subsequent Sub-tokens**\n",
        "After a word is split into multiple sub-tokens, only the first sub-token receives the actual entity label. Subsequent sub-tokens receive `-100` to ensure that entity labels are not incorrectly assigned to fragments of words.\n",
        "\n",
        "### 2. **Special Tokens**\n",
        "Special tokens such as `[CLS]`, `[SEP]`, and `[PAD]` used for managing sequence boundaries and lengths in models like BERT are also assigned `-100` as they do not correspond to real words in the text.\n",
        "\n",
        "### 3. **Non-Entity Tokens**\n",
        "In certain training setups, tokens that do not correspond to any entity and are not the focus of the task might also be marked with `-100`, especially in cases of imbalanced datasets.\n",
        "\n",
        "### Example\n",
        "- **Sentence**: \"John lives in New York\"\n",
        "- **Tokens**: [\"[CLS]\", \"John\", \"lives\", \"in\", \"New\", \"York\", \"[SEP]\"]\n",
        "- **Labels**: [-100, \"B-PER\", \"O\", \"O\", \"B-LOC\", \"I-LOC\", -100]\n",
        "\n",
        "This labeling strategy is critical for efficient model training, ensuring that the model focuses only on relevant tokens.\n"
      ],
      "metadata": {
        "id": "jJto7shH_tcJ"
      }
    },
    {
      "cell_type": "code",
      "source": [
        "# Tokenize and align labels without fixed padding\n",
        "def tokenize_and_align_labels(examples):\n",
        "    tokenized_inputs = tokenizer(examples[\"tokens\"], truncation=True, is_split_into_words=True)\n",
        "    labels = []\n",
        "    for i, label in enumerate(examples[\"ner_tags\"]):\n",
        "        word_ids = tokenized_inputs.word_ids(batch_index=i)\n",
        "        previous_word_idx = None\n",
        "        label_ids = []\n",
        "        for word_idx in word_ids:\n",
        "            if word_idx is None:\n",
        "                label_ids.append(-100)\n",
        "            elif word_idx != previous_word_idx:\n",
        "                label_ids.append(label[word_idx])\n",
        "            else:\n",
        "                label_ids.append(-100)\n",
        "            previous_word_idx = word_idx\n",
        "        labels.append(label_ids)\n",
        "    tokenized_inputs[\"labels\"] = labels\n",
        "    return tokenized_inputs\n",
        "\n",
        "tokenized_datasets = dataset.map(tokenize_and_align_labels, batched=True)"
      ],
      "metadata": {
        "id": "wqPGUKb_4Qwk"
      },
      "execution_count": null,
      "outputs": []
    },
    {
      "cell_type": "code",
      "source": [
        "# Load pre-trained model\n",
        "model = AutoModelForTokenClassification.from_pretrained(checkpoint, num_labels=9)"
      ],
      "metadata": {
        "colab": {
          "base_uri": "https://localhost:8080/"
        },
        "id": "8VyZa5OW4eFc",
        "outputId": "c4bc4d4b-80f2-40ca-a0e4-9e9c3f91870f"
      },
      "execution_count": null,
      "outputs": [
        {
          "output_type": "stream",
          "name": "stderr",
          "text": [
            "Some weights of BertForTokenClassification were not initialized from the model checkpoint at bert-base-cased and are newly initialized: ['classifier.bias', 'classifier.weight']\n",
            "You should probably TRAIN this model on a down-stream task to be able to use it for predictions and inference.\n"
          ]
        }
      ]
    },
    {
      "cell_type": "markdown",
      "source": [
        "`seqeval` is a Python framework for sequence labeling evaluation. seqeval can evaluate the performance of chunking tasks such as named-entity recognition, part-of-speech tagging, semantic role labeling and so on."
      ],
      "metadata": {
        "id": "1W9Jtx68Be9S"
      }
    },
    {
      "cell_type": "code",
      "source": [
        "# Load seqeval metric\n",
        "metric = load_metric(\"seqeval\")\n",
        "\n",
        "# Define compute_metrics function\n",
        "def compute_metrics(p):\n",
        "    predictions, labels = p\n",
        "    predictions = np.argmax(predictions, axis=2)\n",
        "\n",
        "    # Remove ignored index (special tokens)\n",
        "    true_labels = [[label_list[l] for l in label if l != -100] for label in labels]\n",
        "    true_predictions = [\n",
        "        [label_list[p] for (p, l) in zip(prediction, label) if l != -100]\n",
        "        for prediction, label in zip(predictions, labels)\n",
        "    ]\n",
        "\n",
        "    results = metric.compute(predictions=true_predictions, references=true_labels)\n",
        "    return {\n",
        "        \"precision\": results[\"overall_precision\"],\n",
        "        \"recall\": results[\"overall_recall\"],\n",
        "        \"f1\": results[\"overall_f1\"],\n",
        "        \"accuracy\": results[\"overall_accuracy\"],\n",
        "    }"
      ],
      "metadata": {
        "id": "mevf0sQl4j4G"
      },
      "execution_count": null,
      "outputs": []
    },
    {
      "cell_type": "code",
      "source": [
        "# Get label list\n",
        "label_list = dataset[\"train\"].features[\"ner_tags\"].feature.names\n",
        "\n",
        "# Set up data collator for dynamic padding\n",
        "data_collator = DataCollatorForTokenClassification(tokenizer)"
      ],
      "metadata": {
        "id": "KBwD12Wv4ov8"
      },
      "execution_count": null,
      "outputs": []
    },
    {
      "cell_type": "code",
      "source": [
        "# Set up training arguments\n",
        "training_args = TrainingArguments(\n",
        "    output_dir=\"./results\",\n",
        "    eval_strategy=\"epoch\",\n",
        "    learning_rate=2e-5,\n",
        "    per_device_train_batch_size=16,\n",
        "    per_device_eval_batch_size=16,\n",
        "    num_train_epochs=3,\n",
        "    weight_decay=0.01,\n",
        ")"
      ],
      "metadata": {
        "id": "g2knaQ2H4qRL"
      },
      "execution_count": null,
      "outputs": []
    },
    {
      "cell_type": "code",
      "source": [
        "# Initialize Trainer with compute_metrics and data collator\n",
        "trainer = Trainer(\n",
        "    model=model,\n",
        "    args=training_args,\n",
        "    train_dataset=tokenized_datasets[\"train\"],\n",
        "    eval_dataset=tokenized_datasets[\"validation\"],\n",
        "    tokenizer=tokenizer,\n",
        "    data_collator=data_collator,\n",
        "    compute_metrics=compute_metrics,\n",
        ")"
      ],
      "metadata": {
        "id": "hXauWDth4sH7"
      },
      "execution_count": null,
      "outputs": []
    },
    {
      "cell_type": "code",
      "source": [
        "# Train model\n",
        "trainer.train()"
      ],
      "metadata": {
        "colab": {
          "base_uri": "https://localhost:8080/",
          "height": 204
        },
        "id": "U8ALaa0e4tp9",
        "outputId": "2fa132e6-5b61-45ef-c347-41a9e38a768e"
      },
      "execution_count": null,
      "outputs": [
        {
          "output_type": "display_data",
          "data": {
            "text/plain": [
              "<IPython.core.display.HTML object>"
            ],
            "text/html": [
              "\n",
              "    <div>\n",
              "      \n",
              "      <progress value='2634' max='2634' style='width:300px; height:20px; vertical-align: middle;'></progress>\n",
              "      [2634/2634 09:14, Epoch 3/3]\n",
              "    </div>\n",
              "    <table border=\"1\" class=\"dataframe\">\n",
              "  <thead>\n",
              " <tr style=\"text-align: left;\">\n",
              "      <th>Epoch</th>\n",
              "      <th>Training Loss</th>\n",
              "      <th>Validation Loss</th>\n",
              "      <th>Precision</th>\n",
              "      <th>Recall</th>\n",
              "      <th>F1</th>\n",
              "      <th>Accuracy</th>\n",
              "    </tr>\n",
              "  </thead>\n",
              "  <tbody>\n",
              "    <tr>\n",
              "      <td>1</td>\n",
              "      <td>0.164800</td>\n",
              "      <td>0.041211</td>\n",
              "      <td>0.927306</td>\n",
              "      <td>0.933861</td>\n",
              "      <td>0.930572</td>\n",
              "      <td>0.988669</td>\n",
              "    </tr>\n",
              "    <tr>\n",
              "      <td>2</td>\n",
              "      <td>0.027900</td>\n",
              "      <td>0.039234</td>\n",
              "      <td>0.940369</td>\n",
              "      <td>0.944800</td>\n",
              "      <td>0.942579</td>\n",
              "      <td>0.990363</td>\n",
              "    </tr>\n",
              "    <tr>\n",
              "      <td>3</td>\n",
              "      <td>0.014300</td>\n",
              "      <td>0.037464</td>\n",
              "      <td>0.941855</td>\n",
              "      <td>0.948670</td>\n",
              "      <td>0.945250</td>\n",
              "      <td>0.990908</td>\n",
              "    </tr>\n",
              "  </tbody>\n",
              "</table><p>"
            ]
          },
          "metadata": {}
        },
        {
          "output_type": "execute_result",
          "data": {
            "text/plain": [
              "TrainOutput(global_step=2634, training_loss=0.05219505968289386, metrics={'train_runtime': 555.0062, 'train_samples_per_second': 75.896, 'train_steps_per_second': 4.746, 'total_flos': 1050534559887048.0, 'train_loss': 0.05219505968289386, 'epoch': 3.0})"
            ]
          },
          "metadata": {},
          "execution_count": 14
        }
      ]
    },
    {
      "cell_type": "code",
      "source": [
        "# Evaluate model\n",
        "results = trainer.evaluate()\n",
        "print(results)"
      ],
      "metadata": {
        "colab": {
          "base_uri": "https://localhost:8080/",
          "height": 74
        },
        "id": "8N4c_Omh4vFj",
        "outputId": "cc9e190e-e4b0-4dfa-b148-e8ed0053ebec"
      },
      "execution_count": null,
      "outputs": [
        {
          "output_type": "display_data",
          "data": {
            "text/plain": [
              "<IPython.core.display.HTML object>"
            ],
            "text/html": [
              "\n",
              "    <div>\n",
              "      \n",
              "      <progress value='204' max='204' style='width:300px; height:20px; vertical-align: middle;'></progress>\n",
              "      [204/204 00:09]\n",
              "    </div>\n",
              "    "
            ]
          },
          "metadata": {}
        },
        {
          "output_type": "stream",
          "name": "stdout",
          "text": [
            "{'eval_loss': 0.03746436536312103, 'eval_precision': 0.9418546365914787, 'eval_recall': 0.9486704813194211, 'eval_f1': 0.9452502724909868, 'eval_accuracy': 0.9909076749347767, 'eval_runtime': 10.5735, 'eval_samples_per_second': 307.372, 'eval_steps_per_second': 19.294, 'epoch': 3.0}\n"
          ]
        }
      ]
    },
    {
      "cell_type": "code",
      "source": [],
      "metadata": {
        "id": "IuXJOdg-EDja"
      },
      "execution_count": null,
      "outputs": []
    }
  ]
}